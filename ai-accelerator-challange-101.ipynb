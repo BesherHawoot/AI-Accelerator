{
 "cells": [
  {
   "cell_type": "code",
   "execution_count": 1,
   "id": "fdd254ee",
   "metadata": {
    "_cell_guid": "b1076dfc-b9ad-4769-8c92-a6c4dae69d19",
    "_uuid": "8f2839f25d086af736a60e9eeb907d3b93b6e0e5",
    "execution": {
     "iopub.execute_input": "2022-12-08T13:23:54.085410Z",
     "iopub.status.busy": "2022-12-08T13:23:54.084633Z",
     "iopub.status.idle": "2022-12-08T13:23:54.097830Z",
     "shell.execute_reply": "2022-12-08T13:23:54.096677Z"
    },
    "papermill": {
     "duration": 0.021221,
     "end_time": "2022-12-08T13:23:54.101177",
     "exception": false,
     "start_time": "2022-12-08T13:23:54.079956",
     "status": "completed"
    },
    "tags": []
   },
   "outputs": [
    {
     "name": "stdout",
     "output_type": "stream",
     "text": [
      "The house is Mansion\n"
     ]
    }
   ],
   "source": [
    "#Besher Hawoot 08/12/2022\n",
    "#SIMPLE DECISION TREES\n",
    "\n",
    "def simplDecisionTree(area, numberOfLevels):\n",
    "    if (area <=  500) and (numberOfLevels <= 10):\n",
    "        return \"Tiny\"\n",
    "    elif (area <=  500) and (numberOfLevels > 10):\n",
    "        return \"Straw-Building\"\n",
    "    elif (area >  500) and (numberOfLevels > 10):\n",
    "        return \"Skyscraper\"\n",
    "    else:\n",
    "        return \"Mansion\"\n",
    "    \n",
    "area = 900\n",
    "numberOfLevels = 10\n",
    "print(\"The house is\",simplDecisionTree(area, numberOfLevels))"
   ]
  },
  {
   "cell_type": "code",
   "execution_count": 2,
   "id": "d6ac7f86",
   "metadata": {
    "execution": {
     "iopub.execute_input": "2022-12-08T13:23:54.107418Z",
     "iopub.status.busy": "2022-12-08T13:23:54.106989Z",
     "iopub.status.idle": "2022-12-08T13:23:54.125187Z",
     "shell.execute_reply": "2022-12-08T13:23:54.123589Z"
    },
    "papermill": {
     "duration": 0.024526,
     "end_time": "2022-12-08T13:23:54.128237",
     "exception": false,
     "start_time": "2022-12-08T13:23:54.103711",
     "status": "completed"
    },
    "tags": []
   },
   "outputs": [
    {
     "name": "stdout",
     "output_type": "stream",
     "text": [
      "[[0 0 0 0 0]\n",
      " [0 0 1 1 1]\n",
      " [0 0 1 1 1]\n",
      " [0 0 0 0 0]\n",
      " [0 0 1 0 1]]\n"
     ]
    }
   ],
   "source": [
    "#Besher Hawoot 08/12/2022\n",
    "#IMAGE EDITOR\n",
    "\n",
    "import numpy as np\n",
    "\n",
    "def photoEditor(image):\n",
    "    for i in range(5):\n",
    "        for j in range(5):\n",
    "            image[i][4-j] = int(image[i][j]>=50)\n",
    "    return image\n",
    "            \n",
    "image = [[10,20,30,40,50],[50,60,70,80,90],[90,80,70,60,50],[40,30,20,10,0],[55,45,65,35,75]]\n",
    "image = np.array(image)\n",
    "print(photoEditor(image))"
   ]
  }
 ],
 "metadata": {
  "kernelspec": {
   "display_name": "Python 3",
   "language": "python",
   "name": "python3"
  },
  "language_info": {
   "codemirror_mode": {
    "name": "ipython",
    "version": 3
   },
   "file_extension": ".py",
   "mimetype": "text/x-python",
   "name": "python",
   "nbconvert_exporter": "python",
   "pygments_lexer": "ipython3",
   "version": "3.7.12"
  },
  "papermill": {
   "default_parameters": {},
   "duration": 11.094461,
   "end_time": "2022-12-08T13:23:54.852631",
   "environment_variables": {},
   "exception": null,
   "input_path": "__notebook__.ipynb",
   "output_path": "__notebook__.ipynb",
   "parameters": {},
   "start_time": "2022-12-08T13:23:43.758170",
   "version": "2.3.4"
  }
 },
 "nbformat": 4,
 "nbformat_minor": 5
}
